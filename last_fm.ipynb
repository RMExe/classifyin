{
 "cells": [
  {
   "cell_type": "code",
   "execution_count": 1,
   "metadata": {},
   "outputs": [],
   "source": [
    "import pylast"
   ]
  },
  {
   "cell_type": "code",
   "execution_count": 2,
   "metadata": {},
   "outputs": [
    {
     "name": "stdout",
     "output_type": "stream",
     "text": [
      "Eric B. & Rakim - Don't Sweat The Technique\n",
      "https://www.last.fm/music/eric%2bb.%2b%2526%2brakim/_/don%2527t%2bsweat%2bthe%2btechnique\n"
     ]
    },
    {
     "data": {
      "text/html": [
       "<img src='https://lastfm-img2.akamaized.net/i/u/300x300/f4082677814e4516a8a6a360eef24df0.png'>"
      ],
      "text/plain": [
       "<IPython.core.display.HTML object>"
      ]
     },
     "execution_count": 2,
     "metadata": {},
     "output_type": "execute_result"
    }
   ],
   "source": [
    "from IPython.core.display import HTML\n",
    "import pylast\n",
    "\n",
    "# You have to have your own unique two values for API_KEY and API_SECRET\n",
    "# Obtain yours from https://www.last.fm/api/account/create for Last.fm\n",
    "API_KEY = \"5411ef7b249602ca529c47306f711781\"  # this is a sample key\n",
    "API_SECRET = \"f473924eb609b5f484770d557a401a41\"\n",
    "\n",
    "network = pylast.LastFMNetwork(api_key=API_KEY, api_secret=API_SECRET)\n",
    "track   = network.get_track(\"Eric B. & Rakim\", \"Don't Sweat The Technique\") # A wonderful song with math\n",
    "album_image = track.get_cover_image()\n",
    "print(track.get_album())\n",
    "print(track.get_url())\n",
    "HTML(\"<img src='{}'>\".format(album_image))"
   ]
  },
  {
   "cell_type": "code",
   "execution_count": 3,
   "metadata": {},
   "outputs": [
    {
     "data": {
      "text/plain": [
       "pylast.Track('Eric B. & Rakim', \"Don't Sweat The Technique\", pylast.LastFMNetwork('5411ef7b249602ca529c47306f711781', 'f473924eb609b5f484770d557a401a41', '', '', ''))"
      ]
     },
     "execution_count": 3,
     "metadata": {},
     "output_type": "execute_result"
    }
   ],
   "source": [
    "track"
   ]
  },
  {
   "cell_type": "code",
   "execution_count": 6,
   "metadata": {},
   "outputs": [],
   "source": [
    "album = network.get_album(\"eric b. & rakim\", \"Don't sweat the technique\")"
   ]
  },
  {
   "cell_type": "code",
   "execution_count": 7,
   "metadata": {},
   "outputs": [],
   "source": [
    "import pandas as pd"
   ]
  },
  {
   "cell_type": "code",
   "execution_count": 8,
   "metadata": {},
   "outputs": [],
   "source": [
    "df = pd.read_json('data/big_one.json')"
   ]
  },
  {
   "cell_type": "code",
   "execution_count": 9,
   "metadata": {},
   "outputs": [
    {
     "data": {
      "text/html": [
       "<div>\n",
       "<style scoped>\n",
       "    .dataframe tbody tr th:only-of-type {\n",
       "        vertical-align: middle;\n",
       "    }\n",
       "\n",
       "    .dataframe tbody tr th {\n",
       "        vertical-align: top;\n",
       "    }\n",
       "\n",
       "    .dataframe thead th {\n",
       "        text-align: right;\n",
       "    }\n",
       "</style>\n",
       "<table border=\"1\" class=\"dataframe\">\n",
       "  <thead>\n",
       "    <tr style=\"text-align: right;\">\n",
       "      <th></th>\n",
       "      <th>album</th>\n",
       "      <th>artists</th>\n",
       "      <th>text</th>\n",
       "    </tr>\n",
       "  </thead>\n",
       "  <tbody>\n",
       "    <tr>\n",
       "      <th>0</th>\n",
       "      <td>[Not for Sale]</td>\n",
       "      <td>[Smoke DZA]</td>\n",
       "      <td>[Harlem rapper Smoke DZA keeps it real on , , ...</td>\n",
       "    </tr>\n",
       "    <tr>\n",
       "      <th>1</th>\n",
       "      <td>[Loud Patterns]</td>\n",
       "      <td>[Makeness]</td>\n",
       "      <td>[The first full-length album from the British ...</td>\n",
       "    </tr>\n",
       "    <tr>\n",
       "      <th>2</th>\n",
       "      <td>[am i happy, singing_]</td>\n",
       "      <td>[Ricky Eat Acid]</td>\n",
       "      <td>[On this three-track album from Sam Ray’s elec...</td>\n",
       "    </tr>\n",
       "    <tr>\n",
       "      <th>3</th>\n",
       "      <td>[Ceremony of Dreams: Studio Sessions &amp; Outtake...</td>\n",
       "      <td>[Entourage]</td>\n",
       "      <td>[The unearthing of these odd compositions from...</td>\n",
       "    </tr>\n",
       "    <tr>\n",
       "      <th>4</th>\n",
       "      <td>[My Dear Melancholy,]</td>\n",
       "      <td>[The Weeknd]</td>\n",
       "      <td>[The Weeknd’s new six-song album finds him in ...</td>\n",
       "    </tr>\n",
       "  </tbody>\n",
       "</table>\n",
       "</div>"
      ],
      "text/plain": [
       "                                               album           artists  \\\n",
       "0                                     [Not for Sale]       [Smoke DZA]   \n",
       "1                                    [Loud Patterns]        [Makeness]   \n",
       "2                             [am i happy, singing_]  [Ricky Eat Acid]   \n",
       "3  [Ceremony of Dreams: Studio Sessions & Outtake...       [Entourage]   \n",
       "4                              [My Dear Melancholy,]      [The Weeknd]   \n",
       "\n",
       "                                                text  \n",
       "0  [Harlem rapper Smoke DZA keeps it real on , , ...  \n",
       "1  [The first full-length album from the British ...  \n",
       "2  [On this three-track album from Sam Ray’s elec...  \n",
       "3  [The unearthing of these odd compositions from...  \n",
       "4  [The Weeknd’s new six-song album finds him in ...  "
      ]
     },
     "execution_count": 9,
     "metadata": {},
     "output_type": "execute_result"
    }
   ],
   "source": [
    "df.head()"
   ]
  },
  {
   "cell_type": "code",
   "execution_count": null,
   "metadata": {},
   "outputs": [],
   "source": []
  }
 ],
 "metadata": {
  "kernelspec": {
   "display_name": "Python 3",
   "language": "python",
   "name": "python3"
  },
  "language_info": {
   "codemirror_mode": {
    "name": "ipython",
    "version": 3
   },
   "file_extension": ".py",
   "mimetype": "text/x-python",
   "name": "python",
   "nbconvert_exporter": "python",
   "pygments_lexer": "ipython3",
   "version": "3.6.8"
  }
 },
 "nbformat": 4,
 "nbformat_minor": 2
}
